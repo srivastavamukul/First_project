{
 "cells": [
  {
   "cell_type": "markdown",
   "id": "411581a6",
   "metadata": {},
   "source": [
    "Q1. L is a list defined as L= [11, 12, 13, 14].\n",
    "\n",
    "(i) WAP to add 50 and 60 to L.  \n",
    "\n",
    "(ii) WAP to remove 11 and 13from L.\n",
    "\n",
    "(iii) WAP to sort L in ascending order.\n",
    "\n",
    "(iv) WAP to sort L in descending order.\n",
    "\n",
    "(v) WAP to search for 13 in L.\n",
    "\n",
    "(vi) WAP to count the number of elements present in L.\n",
    "\n",
    "(vii) WAP to sum all the elements in L. \n",
    "\n",
    "(viii)  WAP to sum all ODD numbers in L. \n",
    "\n",
    "(ix) WAP to sum all EVEN numbers in L. \n",
    "\n",
    "(x) WAP to sum all PRIME numbers in L. \n",
    "\n",
    "(xi) WAP to clear all the elements in L. \n",
    "\n",
    "(xii) WAP to delete L."
   ]
  },
  {
   "cell_type": "code",
   "execution_count": 70,
   "id": "99f6736b",
   "metadata": {},
   "outputs": [
    {
     "name": "stdout",
     "output_type": "stream",
     "text": [
      "[11, 12, 13, 14]\n",
      "[11, 12, 13, 14, 50, 60]\n",
      "[12, 14, 50, 60]\n",
      "[12, 14, 50, 60]\n",
      "[60, 50, 14, 12]\n",
      "False\n",
      "4\n",
      "136\n",
      "136\n",
      "0\n",
      "136\n",
      "0\n",
      "[]\n",
      "[]\n"
     ]
    },
    {
     "ename": "NameError",
     "evalue": "name 'L' is not defined",
     "output_type": "error",
     "traceback": [
      "\u001b[31m---------------------------------------------------------------------------\u001b[39m",
      "\u001b[31mNameError\u001b[39m                                 Traceback (most recent call last)",
      "\u001b[36mCell\u001b[39m\u001b[36m \u001b[39m\u001b[32mIn[70]\u001b[39m\u001b[32m, line 65\u001b[39m\n\u001b[32m     62\u001b[39m \u001b[38;5;28mprint\u001b[39m(L)\n\u001b[32m     64\u001b[39m \u001b[38;5;28;01mdel\u001b[39;00m L\n\u001b[32m---> \u001b[39m\u001b[32m65\u001b[39m \u001b[38;5;28mprint\u001b[39m(\u001b[43mL\u001b[49m)\n",
      "\u001b[31mNameError\u001b[39m: name 'L' is not defined"
     ]
    }
   ],
   "source": [
    "import math as math\n",
    "\n",
    "L = [11, 12, 13, 14]\n",
    "print(L)\n",
    "\n",
    "L.append(50)\n",
    "L.append(60)\n",
    "print(L)\n",
    "\n",
    "del L[L.index(11)]\n",
    "del L[L.index(13)]\n",
    "print(L)\n",
    "\n",
    "L.sort()\n",
    "print(L)\n",
    "\n",
    "L.sort(reverse=True)\n",
    "print(L)\n",
    "\n",
    "print(13 in L)\n",
    "\n",
    "print(len(L))\n",
    "\n",
    "total = 0\n",
    "for num in L:\n",
    "    total += num\n",
    "print(total)\n",
    "\n",
    "## OR\n",
    "\n",
    "print(sum(L))\n",
    "\n",
    "total = 0\n",
    "for num in L:\n",
    "    if num % 2 != 0:\n",
    "        total += num\n",
    "print(total)\n",
    "\n",
    "total = 0\n",
    "for num in L:\n",
    "    if num % 2 == 0:\n",
    "        total += num\n",
    "print(total)\n",
    "\n",
    "def isPrime(num):\n",
    "    for i in range(2, int(math.sqrt(num)) + 1):\n",
    "        if num % i == 0:\n",
    "            return False\n",
    "    return True\n",
    "\n",
    "total = 0\n",
    "for num in L:\n",
    "    if isPrime(num):\n",
    "        total += num\n",
    "print(total)\n",
    "\n",
    "L.clear()\n",
    "print(L)\n",
    "\n",
    "L = [11, 12, 13, 14]\n",
    "del L[:]\n",
    "print(L)\n",
    "\n",
    "del L\n",
    "print(L)\n"
   ]
  },
  {
   "cell_type": "markdown",
   "id": "e1c49c49",
   "metadata": {},
   "source": [
    "Q2. D is a dictionary defined as D= {1:5.6, 2:7.8, 3:6.6, 4:8.7, 5:7.7}.\n",
    "\n",
    "(i) WAP to add new entry in D; key=8 and value is 8.8 \n",
    "\n",
    "(ii) WAP to remove key=2. \n",
    "\n",
    "(iii) WAP to check weather 6 key is present in D. \n",
    "\n",
    "(iv) WAP to count the number of elements present in D. \n",
    "\n",
    "(v) WAP to add all the values present D. \n",
    "\n",
    "(vi) WAP to update the value of 3 to 7.1. \n",
    "\n",
    "(vii) WAP to clear the dictionary."
   ]
  },
  {
   "cell_type": "code",
   "execution_count": 41,
   "id": "b38322f1",
   "metadata": {},
   "outputs": [
    {
     "name": "stdout",
     "output_type": "stream",
     "text": [
      "{1: 5.6, 2: 7.8, 3: 6.6, 4: 8.7, 5: 7.7, 8: 8.8}\n",
      "{1: 5.6, 3: 6.6, 4: 8.7, 5: 7.7, 8: 8.8}\n",
      "False\n",
      "5\n",
      "37.4\n",
      "{1: 5.6, 3: 7.1, 4: 8.7, 5: 7.7, 8: 8.8}\n",
      "{}\n"
     ]
    }
   ],
   "source": [
    "D= {1:5.6, 2:7.8, 3:6.6, 4:8.7, 5:7.7}\n",
    "\n",
    "D[8] = 8.8\n",
    "print(D)\n",
    "\n",
    "del D[2]\n",
    "print(D)\n",
    "\n",
    "print(6 in list(D.keys()))\n",
    "\n",
    "print(len(D))\n",
    "\n",
    "total = 0\n",
    "for keys in D:\n",
    "    total += D[keys]\n",
    "print(total)\n",
    "\n",
    "D[3] = 7.1\n",
    "print(D)\n",
    "\n",
    "D.clear()\n",
    "print(D)"
   ]
  },
  {
   "cell_type": "markdown",
   "id": "f036b4d5",
   "metadata": {},
   "source": [
    "Q3. S1 is a set defined as S1= [10, 20, 30, 40, 50, 60]. \n",
    "       S2 is a set defined as S2= [40, 50, 60, 70, 80, 90]. \n",
    "\n",
    "(i) WAP to add 55 and 66 in Set S1. \n",
    "\n",
    "(ii) WAP to remove 10 and 30 from Set S1. \n",
    "\n",
    "(iii) WAP to check whether 40 is present in S1. \n",
    "\n",
    "(iv) WAP to find the union between S1 and S2. \n",
    "\n",
    "(v) WAP to find the intersection between S1 and S2. \n",
    "\n",
    "(vi) WAP to find the S1 - S2."
   ]
  },
  {
   "cell_type": "code",
   "execution_count": 57,
   "id": "cb790a56",
   "metadata": {},
   "outputs": [
    {
     "name": "stdout",
     "output_type": "stream",
     "text": [
      "{50, 66, 20, 55, 40, 10, 60, 30}\n",
      "{50, 66, 20, 55, 40, 60}\n",
      "True\n",
      "{66, 70, 40, 80, 50, 20, 55, 90, 60}\n",
      "{40, 50, 60}\n",
      "{66, 20, 55}\n",
      "{66, 20, 55}\n"
     ]
    }
   ],
   "source": [
    "S1 = {10, 20, 30, 40, 50, 60}\n",
    "S2 = {40, 50, 60, 70, 80, 90}\n",
    "\n",
    "S1.add(55)\n",
    "S1.add(66)\n",
    "print(S1)\n",
    "\n",
    "S1.remove(10) # use discard, it's better\n",
    "S1.remove(30)\n",
    "print(S1)\n",
    "\n",
    "print(40 in S1)\n",
    "\n",
    "print(S1.union(S2))\n",
    "\n",
    "print(S1.intersection(S2))\n",
    "\n",
    "print(S1 - S2)\n",
    "print(S1.difference(S2))\n"
   ]
  },
  {
   "cell_type": "markdown",
   "id": "e3f0b137",
   "metadata": {},
   "source": [
    "Q4. Write the following program. \n",
    "\n",
    "(i) WAP to print 100 random strings whose length between 6 and 8. \n",
    "\n",
    "(ii) WAP to print all prime numbers between 600 and 800. \n",
    "\n",
    "(iii) WAP to print all numbers between 100 and 1000 that are divisible by 7 and 9."
   ]
  },
  {
   "cell_type": "code",
   "execution_count": 64,
   "id": "991d3489",
   "metadata": {},
   "outputs": [
    {
     "name": "stdout",
     "output_type": "stream",
     "text": [
      "iI5ju\n",
      "zicpvP\n",
      "JZuB\n",
      "YFfM\n",
      "BTAhe\n",
      "Ogq3\n",
      "Br7WI\n",
      "Us4H\n",
      "MTzx\n",
      "FUzhJ\n",
      "KpB3\n",
      "cyQd\n",
      "uhDBTR\n",
      "3S9hTV\n",
      "jZk6m\n",
      "OaoYy\n",
      "yZdv\n",
      "ZkAo23\n",
      "8JrL7Q\n",
      "wWuQH\n",
      "cAkVe\n",
      "dYcPH\n",
      "rJlskE\n",
      "65z7n\n",
      "3aRSkq\n",
      "7yIsK\n",
      "iTXRIK\n",
      "w5SC\n",
      "gnM78d\n",
      "eYGnB\n",
      "HVRIE6\n",
      "jSQ2J\n",
      "roCh\n",
      "SThC\n",
      "e7SWfc\n",
      "MGpse\n",
      "BjCb\n",
      "QB064\n",
      "9BPh\n",
      "7yOjV\n",
      "Br3C\n",
      "cdvT\n",
      "tn6V3\n",
      "ugpZ7s\n",
      "bZQT1B\n",
      "pTI5k\n",
      "gRTxjY\n",
      "JwMbL\n",
      "tNa7X\n",
      "vJdwSp\n",
      "wo7MXp\n",
      "X0qrQ\n",
      "wAVTg\n",
      "ESNc\n",
      "kr5fTJ\n",
      "hH7NB\n",
      "sX6PgD\n",
      "dzqK\n",
      "kBJrp\n",
      "lU1Z\n",
      "oRud\n",
      "AVZ1E\n",
      "0DgpQ4\n",
      "bP3Wpi\n",
      "TVBJ\n",
      "FmSA\n",
      "zpRl\n",
      "NXwGB\n",
      "3xcb\n",
      "RyTkX0\n",
      "qyw9LV\n",
      "iBYz\n",
      "l7BU\n",
      "MYVTNC\n",
      "iStm0\n",
      "XU6JVz\n",
      "52kI\n",
      "Vg3Yz\n",
      "FQi0B\n",
      "ruS5x\n",
      "Ogc2\n",
      "8QYh\n",
      "mIxpel\n",
      "02TJD\n",
      "B7Tb\n",
      "Ju4o\n",
      "KWLbD\n",
      "JTAI2S\n",
      "jk1I4C\n",
      "dHCaE\n",
      "FArf\n",
      "PI6T\n",
      "JujcZ\n",
      "KQeSG\n",
      "aF2kg\n",
      "lGNK\n",
      "zEOSWK\n",
      "WrRik\n",
      "4sYDJ\n",
      "JeFPEr\n"
     ]
    }
   ],
   "source": [
    "import string as string\n",
    "import random as random\n",
    "\n",
    "for i in range(1, 101):\n",
    "    strLength = random.randint(4, 6)\n",
    "    customString = ''.join(random.sample(string.ascii_letters + string.digits, strLength))\n",
    "    print(customString)"
   ]
  },
  {
   "cell_type": "code",
   "execution_count": 65,
   "id": "707e9d6a",
   "metadata": {},
   "outputs": [
    {
     "name": "stdout",
     "output_type": "stream",
     "text": [
      "601\n",
      "607\n",
      "613\n",
      "617\n",
      "619\n",
      "631\n",
      "641\n",
      "643\n",
      "647\n",
      "653\n",
      "659\n",
      "661\n",
      "673\n",
      "677\n",
      "683\n",
      "691\n",
      "701\n",
      "709\n",
      "719\n",
      "727\n",
      "733\n",
      "739\n",
      "743\n",
      "751\n",
      "757\n",
      "761\n",
      "769\n",
      "773\n",
      "787\n",
      "797\n"
     ]
    }
   ],
   "source": [
    "for i in range(600, 801):\n",
    "    if isPrime(i):\n",
    "        print(i)"
   ]
  },
  {
   "cell_type": "code",
   "execution_count": 66,
   "id": "0d121801",
   "metadata": {},
   "outputs": [
    {
     "name": "stdout",
     "output_type": "stream",
     "text": [
      "126\n",
      "189\n",
      "252\n",
      "315\n",
      "378\n",
      "441\n",
      "504\n",
      "567\n",
      "630\n",
      "693\n",
      "756\n",
      "819\n",
      "882\n",
      "945\n"
     ]
    }
   ],
   "source": [
    "for i in range(100, 1001):\n",
    "    if i % 7 == 0 and i % 9 == 0:\n",
    "        print(i)"
   ]
  },
  {
   "cell_type": "markdown",
   "id": "40508b8d",
   "metadata": {},
   "source": [
    "Q5. WAP to create two lists of 10 random numbers between 10 and 30; Find  \n",
    "\n",
    "(i) Common numbers in the two lists \n",
    "\n",
    "(ii) Unique numbers in both the list \n",
    "\n",
    "(iii) Minimum in both the list \n",
    "\n",
    "(iv) Maximum in both the list \n",
    "\n",
    "(v) Sum of both the lists "
   ]
  },
  {
   "cell_type": "code",
   "execution_count": 83,
   "id": "ed929a32",
   "metadata": {},
   "outputs": [
    {
     "name": "stdout",
     "output_type": "stream",
     "text": [
      "[25, 21, 19, 11, 29, 28, 10, 24, 20, 18]\n",
      "[18, 26, 16, 14, 15, 13, 12, 22, 21, 27]\n",
      "[21, 18]\n",
      "[10, 11, 12, 13, 14, 15, 16, 19, 20, 22, 24, 25, 26, 27, 28, 29]\n",
      "10\n",
      "10\n",
      "29\n",
      "29\n",
      "389\n"
     ]
    }
   ],
   "source": [
    "L1 = list(random.sample(range(10, 30), 10))\n",
    "L2 = list(random.sample(range(10, 30), 10))\n",
    "\n",
    "print(L1)\n",
    "print(L2)\n",
    "\n",
    "commonElements = list(element for element in L1 if element in L2)\n",
    "print(commonElements)\n",
    "\n",
    "uniqueElements = list(set(L1).union(set(L2)) - set(commonElements))\n",
    "print(uniqueElements)\n",
    "\n",
    "print(min(set(L1).union(set(L2))))\n",
    "print(min(L1 + L2))\n",
    "\n",
    "print(max(set(L1).union(set(L2))))\n",
    "print(max(L1 + L2))\n",
    "\n",
    "print(sum(L1) + sum(L2))"
   ]
  },
  {
   "cell_type": "markdown",
   "id": "3e1276d8",
   "metadata": {},
   "source": [
    "Q6. WAP to create a list of 100 random numbers between 100 and 900. Count and print the:  \n",
    "\n",
    "(i) All odd numbers \n",
    "\n",
    "(ii) All even numbers \n",
    "\n",
    "(iii) All prime numbers"
   ]
  },
  {
   "cell_type": "code",
   "execution_count": 84,
   "id": "23a71086",
   "metadata": {},
   "outputs": [],
   "source": [
    "L100 = list(random.sample(range(100, 901), 100))"
   ]
  },
  {
   "cell_type": "code",
   "execution_count": 85,
   "id": "39047170",
   "metadata": {},
   "outputs": [
    {
     "name": "stdout",
     "output_type": "stream",
     "text": [
      "897\n",
      "489\n",
      "397\n",
      "189\n",
      "195\n",
      "119\n",
      "601\n",
      "579\n",
      "687\n",
      "305\n",
      "421\n",
      "871\n",
      "175\n",
      "255\n",
      "321\n",
      "399\n",
      "211\n",
      "779\n",
      "551\n",
      "695\n",
      "223\n",
      "777\n",
      "269\n",
      "605\n",
      "101\n",
      "691\n",
      "741\n",
      "513\n",
      "317\n",
      "723\n",
      "279\n",
      "379\n",
      "861\n",
      "243\n",
      "105\n",
      "109\n",
      "373\n",
      "285\n",
      "615\n",
      "875\n",
      "365\n",
      "763\n",
      "667\n",
      "841\n",
      "263\n",
      "367\n",
      "659\n",
      "553\n",
      "429\n",
      "699\n",
      "207\n",
      "121\n"
     ]
    }
   ],
   "source": [
    "for l in L100:\n",
    "    if l % 2 != 0:\n",
    "        print(l)"
   ]
  },
  {
   "cell_type": "code",
   "execution_count": 86,
   "id": "4997d479",
   "metadata": {},
   "outputs": [
    {
     "name": "stdout",
     "output_type": "stream",
     "text": [
      "492\n",
      "700\n",
      "464\n",
      "694\n",
      "796\n",
      "394\n",
      "548\n",
      "734\n",
      "566\n",
      "640\n",
      "688\n",
      "580\n",
      "358\n",
      "604\n",
      "892\n",
      "614\n",
      "568\n",
      "888\n",
      "708\n",
      "756\n",
      "342\n",
      "148\n",
      "648\n",
      "516\n",
      "202\n",
      "432\n",
      "764\n",
      "258\n",
      "780\n",
      "702\n",
      "330\n",
      "880\n",
      "564\n",
      "128\n",
      "638\n",
      "402\n",
      "850\n",
      "890\n",
      "514\n",
      "786\n",
      "874\n",
      "822\n",
      "474\n",
      "456\n",
      "532\n",
      "208\n",
      "254\n",
      "546\n"
     ]
    }
   ],
   "source": [
    "for l in L100:\n",
    "    if l % 2 == 0:\n",
    "        print(l)"
   ]
  },
  {
   "cell_type": "code",
   "execution_count": 88,
   "id": "fcfaa18a",
   "metadata": {},
   "outputs": [
    {
     "name": "stdout",
     "output_type": "stream",
     "text": [
      "397\n",
      "601\n",
      "421\n",
      "211\n",
      "223\n",
      "269\n",
      "101\n",
      "691\n",
      "317\n",
      "379\n",
      "109\n",
      "373\n",
      "263\n",
      "367\n",
      "659\n"
     ]
    }
   ],
   "source": [
    "for l in L100:\n",
    "    if isPrime(l):\n",
    "        print(l)"
   ]
  },
  {
   "cell_type": "markdown",
   "id": "a7a03d06",
   "metadata": {},
   "source": [
    "Q7. D is a dictionary defined as D={1:\"One\",2:\"Two\",3:\"Three\",4:\"Four\", 5:\"Five\"}.  \n",
    "       WAP to read all the keys and values from dictionary and write to the file in the given below format. \n",
    " \n",
    " Key1, Value1 \n",
    " \n",
    " Key2, Value2 \n",
    " \n",
    " Key3, Value3"
   ]
  },
  {
   "cell_type": "code",
   "execution_count": 95,
   "id": "80726a6e",
   "metadata": {},
   "outputs": [
    {
     "name": "stdout",
     "output_type": "stream",
     "text": [
      "1, One\n",
      "2, Two\n",
      "3, Three\n",
      "4, Four\n",
      "5, Five\n",
      "\n"
     ]
    }
   ],
   "source": [
    "D={1:\"One\",2:\"Two\",3:\"Three\",4:\"Four\", 5:\"Five\"}\n",
    "\n",
    "with open(\"test.txt\", \"a+\") as f:\n",
    "    f.seek(0)\n",
    "    f.truncate(0)\n",
    "    for keys in D:\n",
    "        entry = str(keys)+\", \"+str(D[keys])\n",
    "        f.write(entry)\n",
    "        f.write(\"\\n\")\n",
    "    f.seek(0)\n",
    "    print(f.read())"
   ]
  },
  {
   "cell_type": "markdown",
   "id": "a00cd02e",
   "metadata": {},
   "source": [
    "Q8. L is a list defined as L={\"One\",\"Two\",\"Three\",\"Four\",\"Five\"}. \n",
    "       WAP to count the length of reach element from a list and write to the file in the given below format: \n",
    " \n",
    " One, 3 \n",
    " \n",
    " Two, 3 \n",
    " \n",
    " Four, 4"
   ]
  },
  {
   "cell_type": "code",
   "execution_count": 96,
   "id": "11a78592",
   "metadata": {},
   "outputs": [
    {
     "name": "stdout",
     "output_type": "stream",
     "text": [
      "Four, 4\n",
      "Three, 5\n",
      "Five, 4\n",
      "One, 3\n",
      "Two, 3\n",
      "\n"
     ]
    }
   ],
   "source": [
    "L={\"One\",\"Two\",\"Three\",\"Four\",\"Five\"}\n",
    "\n",
    "with open(\"test.txt\", \"a+\") as f:\n",
    "    f.seek(0)\n",
    "    f.truncate(0)\n",
    "    for l in L:\n",
    "        entry = str(l) + \", \" + str(len(l))\n",
    "        f.write(entry)\n",
    "        f.write(\"\\n\")\n",
    "    f.seek(0)\n",
    "    print(f.read())"
   ]
  },
  {
   "cell_type": "markdown",
   "id": "766c6185",
   "metadata": {},
   "source": [
    "Q9. Write to the file 100 random strings whose length between 10 and 15"
   ]
  },
  {
   "cell_type": "code",
   "execution_count": 102,
   "id": "8fc6a50e",
   "metadata": {},
   "outputs": [
    {
     "name": "stdout",
     "output_type": "stream",
     "text": [
      "94JWszvjZdIb2nC\n",
      "5A7x2iC8qHY\n",
      "Vx2jCprBenmHX\n",
      "kzUy2XMpQAli\n",
      "Age7NkRSW34P\n",
      "y2JuIpiWvwcNb\n",
      "U3HTJFkrOlh0g\n",
      "JdbfcqCNXaReS\n",
      "5JH6zsU7a2MCSxA\n",
      "AlkSP7R1zB\n",
      "1EMgOhwApCmWS\n",
      "OnNE95GuCF0vg\n",
      "pUGPb8tqLc\n",
      "JbOrVatyjLYg37E\n",
      "6fKzkVuEwO\n",
      "DhQIMbjE6HwB\n",
      "WjzKG16ZOp\n",
      "0MwJU8915Ay\n",
      "m1WHgY2e9MGsvJr\n",
      "e4FB8QiRYjAK\n",
      "6xiZ7Rgrv0bSl\n",
      "GAksl1y4SqD\n",
      "pZcwAT3Fs9x2\n",
      "UrLSlyiaHN\n",
      "XxoqgTJtaVU\n",
      "MHlbJnVdXB\n",
      "zTIgEkvCGX\n",
      "lwpdjWYTfe\n",
      "Q2s4voCl1ugq\n",
      "jcVZdWmrw1DG7nI\n",
      "T5fi76PV4Q\n",
      "L8lXfDxCyqcB4\n",
      "o93PripmjYt\n",
      "0ywqxfZHLa4Mm\n",
      "rIRegkmKfv\n",
      "21JqS5XIGg\n",
      "dI6COB3ESpq42\n",
      "No2xsGWfEz\n",
      "ArflSCTciM\n",
      "jEDeLytPgqApT\n",
      "XHZLufshJg\n",
      "q7bipIPvFsG\n",
      "cv0L3q6Ssem2Qk\n",
      "DJyCMRzYGxAH\n",
      "V9l6meCqk72\n",
      "FaeP8V6rihlJR\n",
      "Rcq137984UwB5g\n",
      "4iKkQEDWRZ\n",
      "04nbzPIKhJsiu2\n",
      "4W7udM6U2YqoKZ\n",
      "hAUJaeXzpM\n",
      "rZRzhinmwB\n",
      "SHxFEqC10woi\n",
      "ZhnzVcQONbwR\n",
      "3uYLiRKIMr\n",
      "lBt64Ncx8XYSpkA\n",
      "qUBMmDR8AT1XI\n",
      "tbT1RFxIcOr\n",
      "yFmqZji8C4zX\n",
      "3yxebQnCGfk\n",
      "eT0qPlwRGOSF6j\n",
      "ZG3DbeS6K2F\n",
      "oN7q4EHsMSK5\n",
      "3sov27z8U1lubK6\n",
      "ZEnNomP60adA8q\n",
      "oKs76uOCdI\n",
      "B2Xm8eTW16ZF\n",
      "lmVsohKFf2zBja\n",
      "tYW3bRhInldX0ML\n",
      "qzIi5HL9nD\n",
      "RgsJykW6vlTXP\n",
      "MDBTZqC53R6tpJW\n",
      "Gia7VNrp6qH45\n",
      "JMj9XGrE0cQm5e\n",
      "xk2ApwmyzltO0gs\n",
      "Xl7tksLTqRo\n",
      "JGsoXRulFTvz\n",
      "KS8oLd4lsaFD52\n",
      "cfmNZw7AyULil\n",
      "G7uWTMOYnZ1I4eQ\n",
      "cH2dABetjJ\n",
      "gBMkOLhPfXQ\n",
      "0WY8Q9BubGRV\n",
      "hvBF03HlWiOZj\n",
      "jtnRVUlHBzI\n",
      "AbHtcCFmx8ZvpM4\n",
      "fyFwYXdJvg51bl\n",
      "H6RC1M8IpF\n",
      "IRciPE9Cx24LH\n",
      "RpZx15zIw4QFt\n",
      "4gqkn7ArSi1\n",
      "DA9GRVX1SUZT\n",
      "Smh1gX2l6yMc\n",
      "z8VCdyRguOls\n",
      "AGNgvV4Yk6QS\n",
      "cdyCQvPaxO\n",
      "exuO8XWIoPM\n",
      "gqQJnPKc1fH7A\n",
      "k2AtirMUGP\n",
      "6NzFXmbrvCZYnaw\n",
      "\n"
     ]
    }
   ],
   "source": [
    "with open(\"test.txt\", \"a+\") as f:\n",
    "    f.seek(0)\n",
    "    f.truncate(0)\n",
    "    for i in range(1, 101):\n",
    "        strLength = random.randint(10, 15)\n",
    "        customString = \"\".join(random.sample((string.ascii_letters + string.digits), strLength))\n",
    "        f.write(customString)\n",
    "        f.write(\"\\n\")\n",
    "    f.seek(0)\n",
    "    print(f.read())"
   ]
  },
  {
   "cell_type": "markdown",
   "id": "0a0828a8",
   "metadata": {},
   "source": [
    "Q10. Write to the file all prime numbers between 600 and 800"
   ]
  },
  {
   "cell_type": "code",
   "execution_count": 104,
   "id": "759c251e",
   "metadata": {},
   "outputs": [
    {
     "name": "stdout",
     "output_type": "stream",
     "text": [
      "601\n",
      "607\n",
      "613\n",
      "617\n",
      "619\n",
      "631\n",
      "641\n",
      "643\n",
      "647\n",
      "653\n",
      "659\n",
      "661\n",
      "673\n",
      "677\n",
      "683\n",
      "691\n",
      "701\n",
      "709\n",
      "719\n",
      "727\n",
      "733\n",
      "739\n",
      "743\n",
      "751\n",
      "757\n",
      "761\n",
      "769\n",
      "773\n",
      "787\n",
      "797\n",
      "\n"
     ]
    }
   ],
   "source": [
    "with open(\"test.txt\", \"a+\") as f:\n",
    "    f.seek(0)\n",
    "    f.truncate(0)\n",
    "    for i in range(600, 801):\n",
    "        if isPrime(i):\n",
    "            f.write(str(i))\n",
    "            f.write(\"\\n\")\n",
    "    f.seek(0)\n",
    "    print(f.read())"
   ]
  },
  {
   "cell_type": "markdown",
   "id": "f3c49f7f",
   "metadata": {},
   "source": [
    "Q11. WAP to calculate the time taken by a program."
   ]
  },
  {
   "cell_type": "code",
   "execution_count": 105,
   "id": "b618158e",
   "metadata": {},
   "outputs": [],
   "source": [
    "import time as time"
   ]
  },
  {
   "cell_type": "code",
   "execution_count": 109,
   "id": "03c73aee",
   "metadata": {},
   "outputs": [
    {
     "name": "stdout",
     "output_type": "stream",
     "text": [
      "2.009153366088867 ms\n"
     ]
    }
   ],
   "source": [
    "start = time.time()\n",
    "\n",
    "with open(\"test.txt\", \"a+\") as f:\n",
    "    f.seek(0)\n",
    "    f.truncate(0)\n",
    "    for i in range(1, 101):\n",
    "        strLength = random.randint(10, 15)\n",
    "        customString = \"\".join(random.sample((string.ascii_letters + string.digits), strLength))\n",
    "        f.write(customString)\n",
    "        f.write(\"\\n\")\n",
    "    f.seek(0)\n",
    "\n",
    "end = time.time()\n",
    "\n",
    "print((end - start) * 1000, \"ms\")"
   ]
  },
  {
   "cell_type": "code",
   "execution_count": 110,
   "id": "9e2b2972",
   "metadata": {},
   "outputs": [
    {
     "name": "stdout",
     "output_type": "stream",
     "text": [
      "1.7630999209359288 ms\n"
     ]
    }
   ],
   "source": [
    "start = time.perf_counter()\n",
    "\n",
    "with open(\"test.txt\", \"a+\") as f:\n",
    "    f.seek(0)\n",
    "    f.truncate(0)\n",
    "    for i in range(1, 101):\n",
    "        strLength = random.randint(10, 15)\n",
    "        customString = \"\".join(random.sample((string.ascii_letters + string.digits), strLength))\n",
    "        f.write(customString)\n",
    "        f.write(\"\\n\")\n",
    "    f.seek(0)\n",
    "\n",
    "end = time.perf_counter()\n",
    "\n",
    "print((end - start) * 1000, \"ms\")"
   ]
  },
  {
   "cell_type": "markdown",
   "id": "d89503e2",
   "metadata": {},
   "source": [
    "Q12. WAP to sort following number of elements in a list, calculate time taken and plot the graph.\n",
    "\n",
    "Size of elements: 5k, 10k, 15k, 20k, 25k"
   ]
  },
  {
   "cell_type": "code",
   "execution_count": 10,
   "id": "ca73af3f",
   "metadata": {},
   "outputs": [],
   "source": [
    "import matplotlib.pyplot as plt\n",
    "import random as random\n",
    "import string as string\n",
    "import time as time"
   ]
  },
  {
   "cell_type": "code",
   "execution_count": 11,
   "id": "033ba6be",
   "metadata": {},
   "outputs": [
    {
     "data": {
      "image/png": "[encoded data removed]",
      "text/plain": [
       "<Figure size 640x480 with 1 Axes>"
      ]
     },
     "metadata": {},
     "output_type": "display_data"
    }
   ],
   "source": [
    "def calculateTimeSorting(n):\n",
    "    L = list(random.sample(range(1_000_000), n))\n",
    "    start = time.perf_counter()\n",
    "    L.sort()\n",
    "    end = time.perf_counter()\n",
    "    return end - start\n",
    "\n",
    "X = [5, 10, 15, 20, 25]\n",
    "Y = [calculateTimeSorting(n*1000) for n in X]\n",
    "\n",
    "plt.plot(X, Y)\n",
    "plt.title(\"Size of lists vs their sorting time\")\n",
    "plt.xlabel(\"Size (in thousands)\")\n",
    "plt.ylabel(\"Time taken\")\n",
    "plt.grid(True)\n",
    "plt.show()"
   ]
  },
  {
   "cell_type": "markdown",
   "id": "6f1116f3",
   "metadata": {},
   "source": [
    "Q13. WAP to create a dictionary of student marks in five subjects and you have to find the student  \n",
    "         having maximum and minimum average marks. "
   ]
  },
  {
   "cell_type": "code",
   "execution_count": 12,
   "id": "cef1c981",
   "metadata": {},
   "outputs": [
    {
     "name": "stdout",
     "output_type": "stream",
     "text": [
      "Student with least average marks:  Jack\n",
      "Student with highest average marks:  Hannah\n"
     ]
    }
   ],
   "source": [
    "students = {\n",
    "    \"Alice\":   {\"Math\": 88, \"Science\": 76, \"English\": 91, \"History\": 82, \"Art\": 90},\n",
    "    \"Bob\":     {\"Math\": 67, \"Science\": 58, \"English\": 72, \"History\": 70, \"Art\": 65},\n",
    "    \"Charlie\": {\"Math\": 93, \"Science\": 81, \"English\": 86, \"History\": 88, \"Art\": 84},\n",
    "    \"Diana\":   {\"Math\": 54, \"Science\": 69, \"English\": 62, \"History\": 60, \"Art\": 75},\n",
    "    \"Ethan\":   {\"Math\": 79, \"Science\": 84, \"English\": 88, \"History\": 90, \"Art\": 85},\n",
    "    \"Fiona\":   {\"Math\": 91, \"Science\": 77, \"English\": 94, \"History\": 85, \"Art\": 88},\n",
    "    \"George\":  {\"Math\": 63, \"Science\": 71, \"English\": 59, \"History\": 65, \"Art\": 70},\n",
    "    \"Hannah\":  {\"Math\": 85, \"Science\": 90, \"English\": 89, \"History\": 87, \"Art\": 92},\n",
    "    \"Irene\":   {\"Math\": 72, \"Science\": 65, \"English\": 70, \"History\": 68, \"Art\": 74},\n",
    "    \"Jack\":    {\"Math\": 60, \"Science\": 55, \"English\": 68, \"History\": 62, \"Art\": 67}\n",
    "}\n",
    "\n",
    "def findMinAvg(students):\n",
    "    minMarks = 101\n",
    "    minName = \"\"\n",
    "    for name, marks in students.items():\n",
    "        avg = sum(marks.values())/len(marks)\n",
    "        if avg < minMarks:\n",
    "            minMarks = avg\n",
    "            minName = name\n",
    "    return minName\n",
    "\n",
    "def findMaxAvg(students):\n",
    "    maxMarks = -1\n",
    "    maxName = \"\"\n",
    "    for name, marks in students.items():\n",
    "        avg = sum(marks.values())/len(marks)\n",
    "        if avg > maxMarks:\n",
    "            maxMarks = avg\n",
    "            maxName = name\n",
    "    return maxName\n",
    "\n",
    "minName = findMinAvg(students)\n",
    "maxName = findMaxAvg(students)\n",
    "\n",
    "print(\"Student with least average marks: \", minName)\n",
    "print(\"Student with highest average marks: \", maxName)"
   ]
  }
 ],
 "metadata": {
  "kernelspec": {
   "display_name": "mlworkshop",
   "language": "python",
   "name": "python3"
  },
  "language_info": {
   "codemirror_mode": {
    "name": "ipython",
    "version": 3
   },
   "file_extension": ".py",
   "mimetype": "text/x-python",
   "name": "python",
   "nbconvert_exporter": "python",
   "pygments_lexer": "ipython3",
   "version": "3.12.11"
  }
 },
 "nbformat": 4,
 "nbformat_minor": 5
}
